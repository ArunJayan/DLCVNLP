{
 "cells": [
  {
   "cell_type": "markdown",
   "metadata": {},
   "source": [
    "Q1. Write a Python program to get the string from the given string where\n",
    "all the occurrence of its first char has been changed to '$,' except first\n",
    "char itself?\n",
    "\n",
    "    Sample String: 'prospect'\n",
    "    Expected Result : 'pros$ect'\n"
   ]
  },
  {
   "cell_type": "code",
   "execution_count": 72,
   "metadata": {},
   "outputs": [
    {
     "data": {
      "text/plain": [
       "'pros$ect'"
      ]
     },
     "execution_count": 72,
     "metadata": {},
     "output_type": "execute_result"
    }
   ],
   "source": [
    "def getString(d,s):\n",
    "    #first character \n",
    "    first_char = d[0]\n",
    "    \n",
    "    #rest of the string (without first character)\n",
    "    substring = d[1:len(d)]\n",
    "    \n",
    "    #get the number of occurance of first-character in the rest of string \n",
    "    count = substring.count(first_char)\n",
    "    \n",
    "    #now replace all characters \n",
    "    return(first_char+substring.replace(first_char,s,count))\n",
    "    \n",
    "getString('prospect','$')"
   ]
  },
  {
   "cell_type": "code",
   "execution_count": 73,
   "metadata": {},
   "outputs": [
    {
     "data": {
      "text/plain": [
       "'k@__@__j@m123@'"
      ]
     },
     "execution_count": 73,
     "metadata": {},
     "output_type": "execute_result"
    }
   ],
   "source": [
    "getString(\"kk__k__jkm123k\",\"@\")"
   ]
  },
  {
   "cell_type": "markdown",
   "metadata": {},
   "source": [
    "Q2. Write a Python program to get the single string from the two given\n",
    "strings, and separated by the space and swap the first two characters of\n",
    "each string?\n",
    "\n",
    "    Sample String : 'abc', 'xyz'.\n",
    "    Expected Result: 'xyc abz'"
   ]
  },
  {
   "cell_type": "code",
   "execution_count": 74,
   "metadata": {},
   "outputs": [
    {
     "name": "stdout",
     "output_type": "stream",
     "text": [
      "Input Strings : abc\txyz\n",
      "output :  xyc abz\n"
     ]
    }
   ],
   "source": [
    "def constructNewString(str1 , str2):\n",
    "    print(\"Input Strings : {0}\\t{1}\".format(str1,str2))\n",
    "    new_str = \"{0}{1} {2}{3}\".format(str2[:2],str1[2:],str1[:2],str2[2:])\n",
    "    #print(new_str)\n",
    "    return(new_str)\n",
    "\n",
    "print(\"output : \" , constructNewString('abc','xyz'))"
   ]
  },
  {
   "cell_type": "code",
   "execution_count": 75,
   "metadata": {},
   "outputs": [
    {
     "name": "stdout",
     "output_type": "stream",
     "text": [
      "Input Strings : abcd\tpqrs\n",
      "output :  pqcd abrs\n"
     ]
    }
   ],
   "source": [
    "print(\"output : \", constructNewString(\"abcd\" , \"pqrs\"))"
   ]
  },
  {
   "cell_type": "markdown",
   "metadata": {},
   "source": [
    "Q3. Write the Python program to add 'ing' at the end of the given string\n",
    "(length of the string should be at least 3). If given string already ends\n",
    "with 'ing,' then add 'ly' instead. If string length of the given string is less\n",
    "than 3, leave it unchanged?\n",
    "\n",
    "\n",
    "    Sample string: ' abc '\n",
    "    Expected result: ' abcing '\n",
    "    Sample string: ' string '\n",
    "    Expected result: ' stringly '\n"
   ]
  },
  {
   "cell_type": "code",
   "execution_count": 76,
   "metadata": {},
   "outputs": [
    {
     "data": {
      "text/plain": [
       "'abcing'"
      ]
     },
     "execution_count": 76,
     "metadata": {},
     "output_type": "execute_result"
    }
   ],
   "source": [
    "def modifyString(s):\n",
    "    if len(s) <3:\n",
    "        return(\"Length of the string should be at least 3!\")\n",
    "    #check the string end with \"ing\"\n",
    "    if s.endswith(\"ing\"):\n",
    "        #if yes then add \"ly\" at the end \n",
    "        return(s+\"ly\")\n",
    "    else:\n",
    "        #if no , then add \"ing\" at the end of the string \n",
    "        return(s+\"ing\")\n",
    "\n",
    "modifyString(\"abc\")"
   ]
  },
  {
   "cell_type": "code",
   "execution_count": 77,
   "metadata": {},
   "outputs": [
    {
     "data": {
      "text/plain": [
       "'stringly'"
      ]
     },
     "execution_count": 77,
     "metadata": {},
     "output_type": "execute_result"
    }
   ],
   "source": [
    "modifyString(\"string\")"
   ]
  },
  {
   "cell_type": "code",
   "execution_count": 78,
   "metadata": {},
   "outputs": [
    {
     "data": {
      "text/plain": [
       "'Length of the string should be at least 3!'"
      ]
     },
     "execution_count": 78,
     "metadata": {},
     "output_type": "execute_result"
    }
   ],
   "source": [
    "modifyString(\"12\")"
   ]
  },
  {
   "cell_type": "markdown",
   "metadata": {},
   "source": [
    "Q4. Write the Python program to find the first appearance of the\n",
    "substring 'not' and 'poor' from the given string, if 'not' follows the 'poor',\n",
    "replace the whole 'not'...' poor' substring with 'good'.Return the resulting\n",
    "string.\n",
    "\n",
    "    Sample string: 'The lyrics are not that poor!'\n",
    "    'The lyrics are poor!'\n",
    "    Expected Result: 'The lyrics are good!'\n",
    "    'The lyrics are poor!'"
   ]
  },
  {
   "cell_type": "code",
   "execution_count": 79,
   "metadata": {},
   "outputs": [],
   "source": [
    "def modify1(s):\n",
    "    index =  { 'not' : None , 'poor' : None }\n",
    "    #split the input string \n",
    "    list_ = s.split(\" \")\n",
    "    #find the position of not and poor  in the string \n",
    "    for i,j in enumerate(list_):\n",
    "        #print(i,j)\n",
    "        if j == \"not\" : \n",
    "            index['not'] = i\n",
    "        elif j == \"poor!\":\n",
    "            index['poor'] = i\n",
    "    #print(index)       \n",
    "    # check if the string contains both 'not' and 'poor'\n",
    "    if index[\"not\"] is not None and index[\"not\"] is not None:\n",
    "        # check if 'not' follows 'poor'\n",
    "        if index['not'] < index['poor']:\n",
    "            #if yes then 'not'....''poor' replace as 'good'\n",
    "            return(\" \".join(list_[0:index[\"not\"]]+[\"good\"]+list_[index[\"poor\"]+1:]))\n",
    "    else:\n",
    "        #return the input string itself\n",
    "        return(s)\n",
    "            "
   ]
  },
  {
   "cell_type": "code",
   "execution_count": 80,
   "metadata": {},
   "outputs": [
    {
     "data": {
      "text/plain": [
       "'The lyrics are good'"
      ]
     },
     "execution_count": 80,
     "metadata": {},
     "output_type": "execute_result"
    }
   ],
   "source": [
    "modify1('The lyrics are not that poor!')"
   ]
  },
  {
   "cell_type": "code",
   "execution_count": 81,
   "metadata": {},
   "outputs": [
    {
     "data": {
      "text/plain": [
       "'The lyrics are poor!'"
      ]
     },
     "execution_count": 81,
     "metadata": {},
     "output_type": "execute_result"
    }
   ],
   "source": [
    "modify1('The lyrics are poor!')"
   ]
  },
  {
   "cell_type": "markdown",
   "metadata": {},
   "source": [
    "Q5. Write the Python program to remove the characters which have odd\n",
    "index values of a given string."
   ]
  },
  {
   "cell_type": "code",
   "execution_count": 82,
   "metadata": {},
   "outputs": [
    {
     "name": "stdout",
     "output_type": "stream",
     "text": [
      "input :  HelloWorld!\n",
      "output :  Hlool!\n"
     ]
    }
   ],
   "source": [
    "'''\n",
    "Suppose input string is HelloWorld\n",
    "H e l l o W o r l d   \n",
    "0 1 2 3 4 5 6 7 8 9\n",
    "\n",
    "So we have to remove charcters at 1,3,5,7,9(odd index)\n",
    "'''\n",
    "\n",
    "def modifiy2(s):\n",
    "    print(\"input : \",s)\n",
    "    new_str = \"\"\n",
    "    for i in range(len(s)):\n",
    "        if i%2 is not 0:\n",
    "            pass\n",
    "        else:\n",
    "            new_str = new_str + s[i]\n",
    "    print(\"output : \",new_str)\n",
    "\n",
    "modifiy2(\"HelloWorld!\")\n"
   ]
  },
  {
   "cell_type": "markdown",
   "metadata": {},
   "source": [
    "Q6. Write the python program to print the following floating numbers up\n",
    "to 2 decimal places?"
   ]
  },
  {
   "cell_type": "code",
   "execution_count": 83,
   "metadata": {},
   "outputs": [
    {
     "name": "stdout",
     "output_type": "stream",
     "text": [
      "output : 125.13\n"
     ]
    }
   ],
   "source": [
    "num = 125.127457\n",
    "print(\"output :\",round(num,2))"
   ]
  },
  {
   "cell_type": "markdown",
   "metadata": {},
   "source": [
    "Q7. Write the Python program to format a number with a percentage?"
   ]
  },
  {
   "cell_type": "code",
   "execution_count": 84,
   "metadata": {},
   "outputs": [
    {
     "name": "stdout",
     "output_type": "stream",
     "text": [
      "46%\n",
      "45.800%\n"
     ]
    }
   ],
   "source": [
    "num = .458\n",
    "print(\"{:.0%}\".format(num))\n",
    "print(\"{:.3%}\".format(num))"
   ]
  },
  {
   "cell_type": "markdown",
   "metadata": {},
   "source": [
    "Q8. Write the Python program to count occurrences of a substring in a\n",
    "String?"
   ]
  },
  {
   "cell_type": "code",
   "execution_count": 88,
   "metadata": {},
   "outputs": [
    {
     "name": "stdout",
     "output_type": "stream",
     "text": [
      "count of 'you' in string: 3\n"
     ]
    }
   ],
   "source": [
    "string = \"It's not who you are underneath, it's what you do that defines you.\"\n",
    "print(\"count of 'you' in string: {0}\".format(string.count(\"you\")))"
   ]
  },
  {
   "cell_type": "markdown",
   "metadata": {},
   "source": [
    "Q9. Write the Python program to count repeated characters in a string.\n",
    "\n",
    "    Sample string: ' thequickbrownjumpsoverthelazydog '\n",
    "    \n",
    "    Expected output:\n",
    "    o 3\n",
    "    e 3\n",
    "    u 2\n",
    "    h 2\n",
    "    r 2\n",
    "    t 2"
   ]
  },
  {
   "cell_type": "code",
   "execution_count": 71,
   "metadata": {},
   "outputs": [
    {
     "name": "stdout",
     "output_type": "stream",
     "text": [
      "t 2\n",
      "h 2\n",
      "e 3\n",
      "u 2\n",
      "r 2\n",
      "o 3\n"
     ]
    }
   ],
   "source": [
    "string = ' thequickbrownjumpsoverthelazydog '.strip()\n",
    "count_ = {}\n",
    "for i in string:\n",
    "    #check the number occurance of this character in the string\n",
    "    if string.count(i)>1:\n",
    "        #if it s grater than one add to dictionary \n",
    "        count_[i] = string.count(i)\n",
    "#print the output \n",
    "for i in count_.keys():\n",
    "    print(i,count_[i])"
   ]
  },
  {
   "cell_type": "markdown",
   "metadata": {},
   "source": [
    "Q10. Write the Python program to print the square and cube symbol in\n",
    "the area of a rectangle and volume of a cylinder?\n",
    "\n",
    "    Sample output\n",
    "    The area of the rectangle is 1256.66cm2\n",
    "    The volume of the cylinder is 1254.725cm3\n"
   ]
  },
  {
   "cell_type": "code",
   "execution_count": 91,
   "metadata": {},
   "outputs": [
    {
     "name": "stdout",
     "output_type": "stream",
     "text": [
      "The area of the rectangle is 1256.66cm²\n",
      "The volume of the cylinder is 1254.725cm³\n"
     ]
    }
   ],
   "source": [
    "area = 1256.66\n",
    "volume = 1254.725\n",
    "print(\"The area of the rectangle is {0}cm\\u00b2\".format(area))\n",
    "print(\"The volume of the cylinder is {0}cm\\u00b3\".format(volume))"
   ]
  },
  {
   "cell_type": "markdown",
   "metadata": {},
   "source": [
    "Q11. Write the Python program to check if a string contains all letters of\n",
    "the alphabet?"
   ]
  },
  {
   "cell_type": "code",
   "execution_count": 124,
   "metadata": {},
   "outputs": [
    {
     "name": "stdout",
     "output_type": "stream",
     "text": [
      "All alphabets are present in the given string\n"
     ]
    }
   ],
   "source": [
    "import string\n",
    "\n",
    "def checkString(s):\n",
    "    letters = list(string.ascii_lowercase)\n",
    "    i = 0 #count \n",
    "    for c in letters:\n",
    "        if c in s.lower():\n",
    "            i = i+1\n",
    "\n",
    "    if i == 26:\n",
    "        print(\"All alphabets are present in the given string\")\n",
    "    else:\n",
    "        print(\"Not all alphabets present in the given string\")\n",
    "\n",
    "checkString(\"QWERTYUIOPasdfGHJKlzxcVBNm\")"
   ]
  },
  {
   "cell_type": "code",
   "execution_count": 125,
   "metadata": {},
   "outputs": [
    {
     "name": "stdout",
     "output_type": "stream",
     "text": [
      "Not all alphabets present in the given string\n"
     ]
    }
   ],
   "source": [
    "checkString(\"MachineLearning vs DeepLearning\")"
   ]
  },
  {
   "cell_type": "markdown",
   "metadata": {},
   "source": [
    "Q12. Write the Python program to find the second most repeated word\n",
    "in a given string?"
   ]
  },
  {
   "cell_type": "code",
   "execution_count": 163,
   "metadata": {},
   "outputs": [
    {
     "name": "stdout",
     "output_type": "stream",
     "text": [
      "{'abc': 6, 'xyz': 1, 'xy': 4, 'cdc': 3}\n",
      "Second Most repeated word in given string :  xy\n"
     ]
    }
   ],
   "source": [
    "def findSecondMostRepeatedWord(s):\n",
    "    s_ = s.split()\n",
    "    list_ = {}\n",
    "    # count occurance of each word in string \n",
    "    for w in s_:\n",
    "        list_[w] = s_.count(w)\n",
    "    # print the count dictionary \n",
    "    print(list_)\n",
    "    # find the second most repeated word , so first we find the occurance/count of sencond most \n",
    "    # repeated word , then we match this values with the dictionary to find the word \n",
    "    l = sorted(list(list_.values()),reverse=True)[1]\n",
    "    for i in list_.keys():\n",
    "        if list_[i] == l:\n",
    "            print(\"Second Most repeated word in given string : \",i)\n",
    "        \n",
    "findSecondMostRepeatedWord(\"abc  xyz abc abc xy xy abc abc abc cdc cdc cdc xy xy\")"
   ]
  },
  {
   "cell_type": "markdown",
   "metadata": {},
   "source": [
    "Q13. Write the Python program to find the minimum window in the given\n",
    "string, which will contains all the characters of another given\n",
    "strings?\n",
    "\n",
    "    Example 1\n",
    "    Input : string1 = \" PRWSOERIUSFK \"\n",
    "    string2 = \" OSU \"\n",
    "    Output: Minimum window is \"OERIUS\""
   ]
  },
  {
   "cell_type": "code",
   "execution_count": 28,
   "metadata": {},
   "outputs": [
    {
     "name": "stdout",
     "output_type": "stream",
     "text": [
      "SOERIU\n"
     ]
    }
   ],
   "source": [
    "def findMinimumwindow(str1,str2):\n",
    "    count = {}\n",
    "    d = { }\n",
    "\n",
    "    # Now we find the position of characters in str1 \n",
    "    for c in str2:\n",
    "        #get index of each characters(string2) in string1\n",
    "        #store it in a dictionary \n",
    "        d[c] = str1.index(c)\n",
    "    #print(d)\n",
    "    #print(min(d.values()))\n",
    "    #print(max(d.values()))\n",
    "    print(str1[min(d.values()):max(d.values())+1])\n",
    "\n",
    "findMinimumwindow(\"PRWSOERIUSFK\",\"OSU\")\n"
   ]
  },
  {
   "cell_type": "code",
   "execution_count": 30,
   "metadata": {},
   "outputs": [
    {
     "name": "stdout",
     "output_type": "stream",
     "text": [
      "XYCDZ\n"
     ]
    }
   ],
   "source": [
    "findMinimumwindow(\"ABXYCDZYX\",\"XYZ\")"
   ]
  },
  {
   "cell_type": "markdown",
   "metadata": {},
   "source": [
    "Q14. Write the Python program to count number of substrings from a\n",
    "given string of lowercase alphabets with exactly k distinct (given)\n",
    "characters?\n",
    "\n",
    "    Input a string (lowercase alphabets): wolf\n",
    "    Input k: 4\n",
    "    Number of substrings with exactly 4 distinct characters: 1"
   ]
  },
  {
   "cell_type": "code",
   "execution_count": 43,
   "metadata": {},
   "outputs": [
    {
     "name": "stdout",
     "output_type": "stream",
     "text": [
      "Number of substrings with exactly 4 distinct characters: 3\n"
     ]
    }
   ],
   "source": [
    "def getSubstringCount(s,k):\n",
    "    substring = []\n",
    "    for i in range(len(s)-k+1):\n",
    "        substring.append( s[i:i+k] )\n",
    "    #print(substring)\n",
    "    print(\"Number of substrings with exactly {0} distinct characters: {1}\".format(k,len(substring)))\n",
    "\n",
    "getSubstringCount(\"xyzabc\",2)"
   ]
  },
  {
   "cell_type": "code",
   "execution_count": 44,
   "metadata": {},
   "outputs": [
    {
     "name": "stdout",
     "output_type": "stream",
     "text": [
      "Number of substrings with exactly 2 distinct characters: 3\n"
     ]
    }
   ],
   "source": [
    "getSubstringCount(\"wolf\",2)"
   ]
  },
  {
   "cell_type": "code",
   "execution_count": 45,
   "metadata": {},
   "outputs": [
    {
     "name": "stdout",
     "output_type": "stream",
     "text": [
      "Number of substrings with exactly 4 distinct characters: 1\n"
     ]
    }
   ],
   "source": [
    "getSubstringCount(\"wolf\",4)"
   ]
  },
  {
   "cell_type": "markdown",
   "metadata": {},
   "source": [
    "Q15. Write the Python program to count number of substrings with same\n",
    "first and last characters of the given string?\n",
    "\n",
    "    Input a string: abcd\n",
    "    4\n"
   ]
  },
  {
   "cell_type": "code",
   "execution_count": 62,
   "metadata": {},
   "outputs": [
    {
     "name": "stdout",
     "output_type": "stream",
     "text": [
      "['a', 'aba', 'b', 'a']\n",
      "4\n"
     ]
    }
   ],
   "source": [
    "def getSubStringWithSameFirstandLast(string):\n",
    "    # get length\n",
    "    n = len(string)\n",
    "    string_list = []\n",
    "    for i in range(n):\n",
    "        for j in range(i,n):\n",
    "            #print(string[i],string[j])\n",
    "            if string[i] == string[j]:\n",
    "                string_list.append(string[i:j+1])\n",
    "\n",
    "    print(string_list)\n",
    "    print(len(string_list))\n",
    "\n",
    "\n",
    "getSubStringWithSameFirstandLast(\"aba\")"
   ]
  },
  {
   "cell_type": "code",
   "execution_count": 63,
   "metadata": {},
   "outputs": [
    {
     "name": "stdout",
     "output_type": "stream",
     "text": [
      "['a', 'b', 'c', 'd']\n",
      "4\n"
     ]
    }
   ],
   "source": [
    "getSubStringWithSameFirstandLast(\"abcd\")"
   ]
  },
  {
   "cell_type": "markdown",
   "metadata": {},
   "source": [
    "## Great Job!"
   ]
  }
 ],
 "metadata": {
  "kernelspec": {
   "display_name": "Python 3",
   "language": "python",
   "name": "python3"
  },
  "language_info": {
   "codemirror_mode": {
    "name": "ipython",
    "version": 3
   },
   "file_extension": ".py",
   "mimetype": "text/x-python",
   "name": "python",
   "nbconvert_exporter": "python",
   "pygments_lexer": "ipython3",
   "version": "3.6.9"
  }
 },
 "nbformat": 4,
 "nbformat_minor": 2
}
