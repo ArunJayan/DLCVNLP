{
 "cells": [
  {
   "cell_type": "markdown",
   "metadata": {},
   "source": [
    "## 1. Create the below pattern using nested for loop in Python. \n",
    " \n",
    " \n",
    "    *  \n",
    "    * *  \n",
    "    * * * \n",
    "    * * * *  \n",
    "    * * * * *  \n",
    "    * * * *  \n",
    "    * * *  \n",
    "    * *  \n",
    "    * \n",
    " \n",
    " "
   ]
  },
  {
   "cell_type": "code",
   "execution_count": 1,
   "metadata": {},
   "outputs": [
    {
     "name": "stdout",
     "output_type": "stream",
     "text": [
      "output:\n",
      "\n",
      "* \n",
      "* * \n",
      "* * * \n",
      "* * * * \n",
      "* * * * * \n",
      "* * * * \n",
      "* * * \n",
      "* * \n",
      "* \n"
     ]
    }
   ],
   "source": [
    "def createPattern(n):\n",
    "    print(\"output:\")\n",
    "    # 1 -5 \n",
    "    for i in range(n):\n",
    "        #print(i)\n",
    "        print ('* '*i)\n",
    "    # 4 - 1 \n",
    "    for i in range(n,0,-1):\n",
    "        #print(i)\n",
    "        print('* '*i)\n",
    "        \n",
    "createPattern(5)"
   ]
  },
  {
   "cell_type": "markdown",
   "metadata": {},
   "source": [
    "### 2. Write a Python program to reverse a word after accepting the input from the user. \n"
   ]
  },
  {
   "cell_type": "markdown",
   "metadata": {},
   "source": [
    "\n",
    "Sample Output: \n",
    "\n",
    "Input word: ineuron \n",
    "\n",
    "Output: norueni"
   ]
  },
  {
   "cell_type": "code",
   "execution_count": 2,
   "metadata": {},
   "outputs": [
    {
     "name": "stdout",
     "output_type": "stream",
     "text": [
      "Input word:ineuron\n",
      "output :  norueni\n"
     ]
    }
   ],
   "source": [
    "input_str = input(\"Input word:\")\n",
    "print(\"output : \",input_str[::-1])"
   ]
  }
 ],
 "metadata": {
  "kernelspec": {
   "display_name": "Python 3",
   "language": "python",
   "name": "python3"
  },
  "language_info": {
   "codemirror_mode": {
    "name": "ipython",
    "version": 3
   },
   "file_extension": ".py",
   "mimetype": "text/x-python",
   "name": "python",
   "nbconvert_exporter": "python",
   "pygments_lexer": "ipython3",
   "version": "3.6.9"
  }
 },
 "nbformat": 4,
 "nbformat_minor": 2
}
