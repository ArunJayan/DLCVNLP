{
 "cells": [
  {
   "cell_type": "markdown",
   "metadata": {},
   "source": [
    "## 1.1 Write a Python Program to implement your own myreduce() function which works exactly like Python's built-in function reduce()"
   ]
  },
  {
   "cell_type": "code",
   "execution_count": 40,
   "metadata": {},
   "outputs": [],
   "source": [
    "import functools"
   ]
  },
  {
   "cell_type": "code",
   "execution_count": 43,
   "metadata": {},
   "outputs": [],
   "source": [
    "def myreduce(func,l):\n",
    "    # set result as the first element of the list \n",
    "    result = l[0]\n",
    "    # not use the list without first element (0th index value)\n",
    "    for i in l[1:]:\n",
    "        # replace the result as the output of fuction with input argument previous r and i(list values)\n",
    "        result = func(result,i)\n",
    "    #return the result \n",
    "    return(result)"
   ]
  },
  {
   "cell_type": "code",
   "execution_count": 46,
   "metadata": {},
   "outputs": [
    {
     "name": "stdout",
     "output_type": "stream",
     "text": [
      "myreduce :  21\n",
      "reduce :  21\n"
     ]
    }
   ],
   "source": [
    "f = lambda x,y : x+y \n",
    "print(\"myreduce : \",myreduce(f,[1,2,3,4,5,6]))\n",
    "print(\"reduce : \",functools.reduce(f,[1,2,3,4,5,6]))"
   ]
  },
  {
   "cell_type": "code",
   "execution_count": 49,
   "metadata": {},
   "outputs": [
    {
     "name": "stdout",
     "output_type": "stream",
     "text": [
      "myreduce :  12000000\n",
      "reduce :  12000000\n"
     ]
    }
   ],
   "source": [
    "f = lambda x,y : x*y\n",
    "print(\"myreduce : \",myreduce(f,[10,20,30,40,50]))\n",
    "print(\"reduce : \",functools.reduce(f,[10,20,30,40,50]))"
   ]
  },
  {
   "cell_type": "code",
   "execution_count": 50,
   "metadata": {},
   "outputs": [
    {
     "name": "stdout",
     "output_type": "stream",
     "text": [
      "myreduce :  -16\n",
      "reduce :  -16\n"
     ]
    }
   ],
   "source": [
    "f  = lambda x,y : (x+y)*(x-y)\n",
    "print(\"myreduce : \",myreduce(f,[1,2,3,4]))\n",
    "print(\"reduce : \",functools.reduce(f,[1,2,3,4]))"
   ]
  },
  {
   "cell_type": "markdown",
   "metadata": {},
   "source": [
    "## 1.2 Write a Python program to implement your own myfilter() function which works exactly like Python's built-in function filter()"
   ]
  },
  {
   "cell_type": "code",
   "execution_count": 71,
   "metadata": {},
   "outputs": [],
   "source": [
    "def myfilter(func,l):\n",
    "    # result list \n",
    "    result = []\n",
    "    # apply given function in each element \n",
    "    for i in l:\n",
    "        #print(func(i))\n",
    "        # if the func return true , then add to result list \n",
    "        if func(i):\n",
    "            result.append(i)\n",
    "    #print(result)\n",
    "    return(result)"
   ]
  },
  {
   "cell_type": "code",
   "execution_count": 72,
   "metadata": {},
   "outputs": [
    {
     "name": "stdout",
     "output_type": "stream",
     "text": [
      "myfilter :  [4, 5, 6]\n",
      "filter :  [4, 5, 6]\n"
     ]
    }
   ],
   "source": [
    "f = lambda x : x % 10 \n",
    "print(\"myfilter : \",myfilter(f, [10,20,30,4,5,6]))\n",
    "print(\"filter : \",list(filter(f , [10,20,30,4,5,6])))"
   ]
  },
  {
   "cell_type": "code",
   "execution_count": 73,
   "metadata": {},
   "outputs": [
    {
     "name": "stdout",
     "output_type": "stream",
     "text": [
      "myfilter :  [10, 20, 30]\n",
      "filter :  [10, 20, 30]\n"
     ]
    }
   ],
   "source": [
    "f = lambda x : x % 10 == 0\n",
    "print(\"myfilter : \",myfilter(f, [10,20,30,4,5,6]))\n",
    "print(\"filter : \",list(filter(f , [10,20,30,4,5,6])))"
   ]
  },
  {
   "cell_type": "code",
   "execution_count": 74,
   "metadata": {},
   "outputs": [
    {
     "name": "stdout",
     "output_type": "stream",
     "text": [
      "myfilter :  [1, 3, 5, 7, 9, 11, 13, 15, 17, 19, 21, 23, 25, 27, 29, 31, 33, 35, 37, 39, 41, 43, 45, 47, 49]\n",
      "filter :  [1, 3, 5, 7, 9, 11, 13, 15, 17, 19, 21, 23, 25, 27, 29, 31, 33, 35, 37, 39, 41, 43, 45, 47, 49]\n"
     ]
    }
   ],
   "source": [
    "f = lambda x : x % 2 # function to check the number is odd or not \n",
    "print(\"myfilter : \",myfilter(f, range(1,50)))\n",
    "print(\"filter : \",list(filter(f , range(1,50))))"
   ]
  },
  {
   "cell_type": "code",
   "execution_count": 75,
   "metadata": {},
   "outputs": [
    {
     "name": "stdout",
     "output_type": "stream",
     "text": [
      "myfilter :  [2, 4, 6, 8, 10, 12, 14, 16, 18, 20, 22, 24, 26, 28, 30, 32, 34, 36, 38, 40, 42, 44, 46, 48]\n",
      "filter :  [2, 4, 6, 8, 10, 12, 14, 16, 18, 20, 22, 24, 26, 28, 30, 32, 34, 36, 38, 40, 42, 44, 46, 48]\n"
     ]
    }
   ],
   "source": [
    "f = lambda x : x % 2 == 0 # function to check the number is even or not \n",
    "print(\"myfilter : \",myfilter(f, range(1,50)))\n",
    "print(\"filter : \",list(filter(f , range(1,50))))"
   ]
  },
  {
   "cell_type": "code",
   "execution_count": 76,
   "metadata": {},
   "outputs": [
    {
     "name": "stdout",
     "output_type": "stream",
     "text": [
      "myfilter :  [5, 10, 15, 20, 25, 30, 35, 40, 45]\n",
      "filter :  [5, 10, 15, 20, 25, 30, 35, 40, 45]\n"
     ]
    }
   ],
   "source": [
    "f = lambda x : x % 5 == 0 # function to check the number is divisible by 5 or not \n",
    "print(\"myfilter : \",myfilter(f, range(1,50)))\n",
    "print(\"filter : \",list(filter(f , range(1,50))))"
   ]
  },
  {
   "cell_type": "markdown",
   "metadata": {},
   "source": [
    "## 2.2. Implement List comprehensions to produce the following lists.\n",
    "Write List comprehensions to produce the following Lists\n",
    "\n",
    "['x', 'xx', 'xxx', 'xxxx', 'y', 'yy', 'yyy', 'yyyy', 'z', 'zz', 'zzz', 'zzzz']\n",
    "\n",
    "['x', 'y', 'z', 'xx', 'yy', 'zz', 'xxx', 'yyy', 'zzz', 'xxxx', 'yyyy', 'zzzz']\n",
    "\n",
    "[[2], [3], [4], [3], [4], [5], [4], [5], [6]]\n",
    "\n",
    "[[2, 3, 4, 5], [3, 4, 5, 6],[4, 5, 6, 7], [5, 6, 7, 8]]\n",
    "\n",
    "[(1, 1), (2, 1), (3, 1), (1, 2), (2, 2), (3, 2), (1, 3), (2, 3), (3, 3)]"
   ]
  },
  {
   "cell_type": "code",
   "execution_count": 101,
   "metadata": {},
   "outputs": [
    {
     "name": "stdout",
     "output_type": "stream",
     "text": [
      "['x', 'xx', 'xxx', 'xxxx', 'y', 'yy', 'yyy', 'yyyy', 'z', 'zz', 'zzz', 'zzzz']\n"
     ]
    }
   ],
   "source": [
    "w = [\"x\",\"y\",\"z\"]\n",
    "l = []\n",
    "for i in w:\n",
    "    for j in range(1,5):\n",
    "        #print(i*j,end=' ')\n",
    "        l.append(i*j)\n",
    "print(l)"
   ]
  },
  {
   "cell_type": "code",
   "execution_count": 102,
   "metadata": {},
   "outputs": [
    {
     "name": "stdout",
     "output_type": "stream",
     "text": [
      "['x', 'y', 'z', 'xx', 'yy', 'zz', 'xxx', 'yyy', 'zzz', 'xxxx', 'yyyy', 'zzzz']\n"
     ]
    }
   ],
   "source": [
    "w = [\"x\",\"y\",\"z\"]\n",
    "l = [] \n",
    "for i in range(1,5):\n",
    "    for j in w:\n",
    "        #print(j*i,end=\" \")\n",
    "        l.append(j*i)\n",
    "print(l)"
   ]
  },
  {
   "cell_type": "code",
   "execution_count": 103,
   "metadata": {},
   "outputs": [
    {
     "name": "stdout",
     "output_type": "stream",
     "text": [
      "[[2], [3], [4], [3], [4], [5], [4], [5], [6]]\n"
     ]
    }
   ],
   "source": [
    "w  = [2,3,4]\n",
    "l = [] \n",
    "for i in w:\n",
    "    for j in range(0,3):\n",
    "        l.append([i+j])\n",
    "print(l)"
   ]
  },
  {
   "cell_type": "code",
   "execution_count": 104,
   "metadata": {},
   "outputs": [
    {
     "name": "stdout",
     "output_type": "stream",
     "text": [
      "[[2, 3, 4, 5], [3, 4, 5, 6], [4, 5, 6, 7], [5, 6, 7, 8]]\n"
     ]
    }
   ],
   "source": [
    "w = [2,3,4,5]\n",
    "l = []\n",
    "for i in  range(0,4):\n",
    "    m = [] \n",
    "    for j in w:\n",
    "        m.append(i+j)\n",
    "    \n",
    "    l.append(m)\n",
    "\n",
    "print(l)"
   ]
  },
  {
   "cell_type": "code",
   "execution_count": 105,
   "metadata": {},
   "outputs": [
    {
     "name": "stdout",
     "output_type": "stream",
     "text": [
      "[(1, 1), (2, 1), (3, 1), (1, 2), (2, 2), (3, 2), (1, 3), (2, 3), (3, 3)]\n"
     ]
    }
   ],
   "source": [
    "l = [] \n",
    "for i in range(1,4):\n",
    "    for j in range(1,4):\n",
    "        l.append((j,i))\n",
    "print(l)"
   ]
  }
 ],
 "metadata": {
  "kernelspec": {
   "display_name": "Python 3",
   "language": "python",
   "name": "python3"
  },
  "language_info": {
   "codemirror_mode": {
    "name": "ipython",
    "version": 3
   },
   "file_extension": ".py",
   "mimetype": "text/x-python",
   "name": "python",
   "nbconvert_exporter": "python",
   "pygments_lexer": "ipython3",
   "version": "3.6.9"
  }
 },
 "nbformat": 4,
 "nbformat_minor": 2
}
