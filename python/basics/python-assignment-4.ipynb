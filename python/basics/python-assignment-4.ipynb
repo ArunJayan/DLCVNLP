{
 "cells": [
  {
   "cell_type": "markdown",
   "metadata": {},
   "source": [
    "### 1.1 Write a Python Program(with class concepts) to find the area of the triangle using the below formula.\n",
    "### area = (s*(s-a)*(s-b)*(s-c))**0.5\n",
    "### Function to take the length of the sides of triangle from user should be defined in the parent class and function to calculate the area should be defined in subclass."
   ]
  },
  {
   "cell_type": "code",
   "execution_count": 36,
   "metadata": {},
   "outputs": [],
   "source": [
    "import numpy as np \n",
    "\n",
    "class Triangle():\n",
    "    '''\n",
    "    Parent class for triangles\n",
    "    '''\n",
    "    def __init__(self):\n",
    "        super().__init__()\n",
    "        # sides of triangle \n",
    "        self.a = None \n",
    "        self.b = None \n",
    "        self.c = None \n",
    "    \n",
    "    def set_triangle_sides(self,a,b,c):\n",
    "        self.a = a \n",
    "        self.b = b \n",
    "        self.c = c \n",
    "    \n",
    "    def get_current_sides(self):\n",
    "        return({'a':self.a,'b':self.b,'c':self.c})\n",
    "    \n",
    "\n",
    "\n",
    "class Area(Triangle):\n",
    "    \"\"\"\n",
    "    subclass derived from parent class 'Triangle'\n",
    "    \"\"\"\n",
    "    def __init__(self,a=None,b=None,c=None):\n",
    "        super().__init__()\n",
    "        \n",
    "        if a is not None and b is not None and c is not None :\n",
    "            self.set_triangle_sides(a,b,c)\n",
    "        print(self.get_current_sides())\n",
    "    \n",
    "    def get_area(self):\n",
    "        \"\"\"\n",
    "        area = square-root[s(s-a)(s-b)(s-c)]\n",
    "        s = (a+b+c)/2 \n",
    "        \"\"\"\n",
    "        # first find s \n",
    "        s = (self.a+self.b+self.c)/2 \n",
    "        # then calculate area \n",
    "        area = np.sqrt(s*(s-self.a)*(s-self.b)*(s-self.c))\n",
    "        return(area)\n",
    "        "
   ]
  },
  {
   "cell_type": "code",
   "execution_count": 37,
   "metadata": {},
   "outputs": [
    {
     "name": "stdout",
     "output_type": "stream",
     "text": [
      "{'a': 10, 'b': 20, 'c': 20}\n",
      "Triangle current sides : {'a': 10, 'b': 20, 'c': 20}\n",
      "96.82458365518542\n"
     ]
    }
   ],
   "source": [
    "area = Area(10,20,20)\n",
    "print(\"Triangle current sides :\",area.get_current_sides())\n",
    "print(area.get_area())"
   ]
  },
  {
   "cell_type": "code",
   "execution_count": 38,
   "metadata": {},
   "outputs": [
    {
     "name": "stdout",
     "output_type": "stream",
     "text": [
      "{'a': None, 'b': None, 'c': None}\n",
      "Triangle current sides : {'a': 25, 'b': 35, 'c': 28}\n",
      "346.96397507522306\n"
     ]
    }
   ],
   "source": [
    "#another object of area class \n",
    "area2 = Area()\n",
    "# triangle sides \n",
    "area2.set_triangle_sides(25,35,28)\n",
    "# get triangle sides \n",
    "print(\"Triangle current sides :\",area2.get_current_sides())\n",
    "#calculate area \n",
    "print(area2.get_area())"
   ]
  },
  {
   "cell_type": "markdown",
   "metadata": {},
   "source": [
    "### 1.2 Write a function filter_long_words() that takes a list of words and an integer n and returns the list of words that are longer than n."
   ]
  },
  {
   "cell_type": "code",
   "execution_count": 15,
   "metadata": {},
   "outputs": [
    {
     "data": {
      "text/plain": [
       "['arun', 'jayan', 'jkm', 'klm']"
      ]
     },
     "execution_count": 15,
     "metadata": {},
     "output_type": "execute_result"
    }
   ],
   "source": [
    "def filter_long_words(words,n):\n",
    "    result = []\n",
    "    for w in words:\n",
    "        #compare each word length with the key value \n",
    "        if len(w) > n:\n",
    "            # if its grater than the keyvalue append to result list \n",
    "            result.append(w)\n",
    "    return(result)\n",
    "    \n",
    "filter_long_words([\"arun\",\"jayan\",\"jkm\",\"ab\",\"a\",\"klm\"],2)"
   ]
  },
  {
   "cell_type": "code",
   "execution_count": 29,
   "metadata": {},
   "outputs": [
    {
     "data": {
      "text/plain": [
       "['ccccc', 'cccccccc', 'bbbbbb', 'zzzzzz']"
      ]
     },
     "execution_count": 29,
     "metadata": {},
     "output_type": "execute_result"
    }
   ],
   "source": [
    "filter_long_words(['aaa','ccccc','cccccccc','bbbbbb','bbb','gg','zzzzzz'],4)"
   ]
  },
  {
   "cell_type": "markdown",
   "metadata": {},
   "source": [
    "## 2.1 Write a Python program using function concept that maps list of words into a list of integers representing the lengths of the corresponding words .\n",
    "### Hint: If a list [ ab,cde,erty] is passed on to the python function output should come as [2,3,4]\n",
    "Here 2,3 and 4 are the lengths of the words in the list."
   ]
  },
  {
   "cell_type": "code",
   "execution_count": 16,
   "metadata": {},
   "outputs": [],
   "source": [
    "def mapWordsLength2Numbers(words):\n",
    "    result = [] \n",
    "    for w in words:\n",
    "        result.append(len(w))\n",
    "    return(result)"
   ]
  },
  {
   "cell_type": "code",
   "execution_count": 17,
   "metadata": {},
   "outputs": [
    {
     "data": {
      "text/plain": [
       "[3, 4, 1, 2, 5, 4, 9]"
      ]
     },
     "execution_count": 17,
     "metadata": {},
     "output_type": "execute_result"
    }
   ],
   "source": [
    "mapWordsLength2Numbers([\"123\",\"abcd\",\"a\",\"aa\",\"asdfg\",\"qwer\",\"qqqqqwwww\"])"
   ]
  },
  {
   "cell_type": "code",
   "execution_count": 28,
   "metadata": {},
   "outputs": [
    {
     "data": {
      "text/plain": [
       "[4, 4, 2, 7, 6, 2, 5, 4, 6]"
      ]
     },
     "execution_count": 28,
     "metadata": {},
     "output_type": "execute_result"
    }
   ],
   "source": [
    "mapWordsLength2Numbers([\"aaaa\",'bbbb','bb','bbbbbbb','cccccc','cc','ccccc','dddd','dddddd'])"
   ]
  },
  {
   "cell_type": "markdown",
   "metadata": {},
   "source": [
    "### 2.2 Write a Python function which takes a character (i.e. a string of length 1) and returns True if it is a vowel, False otherwise."
   ]
  },
  {
   "cell_type": "code",
   "execution_count": 22,
   "metadata": {},
   "outputs": [
    {
     "data": {
      "text/plain": [
       "True"
      ]
     },
     "execution_count": 22,
     "metadata": {},
     "output_type": "execute_result"
    }
   ],
   "source": [
    "def check_character_vowel(c):\n",
    "    if c.lower() in ['a','e','i','o','u']:\n",
    "        return(True)\n",
    "    else:\n",
    "        return(False)\n",
    "\n",
    "check_character_vowel('a')"
   ]
  },
  {
   "cell_type": "code",
   "execution_count": 23,
   "metadata": {},
   "outputs": [
    {
     "data": {
      "text/plain": [
       "True"
      ]
     },
     "execution_count": 23,
     "metadata": {},
     "output_type": "execute_result"
    }
   ],
   "source": [
    "check_character_vowel('e')"
   ]
  },
  {
   "cell_type": "code",
   "execution_count": 24,
   "metadata": {},
   "outputs": [
    {
     "data": {
      "text/plain": [
       "False"
      ]
     },
     "execution_count": 24,
     "metadata": {},
     "output_type": "execute_result"
    }
   ],
   "source": [
    "check_character_vowel('d')"
   ]
  },
  {
   "cell_type": "code",
   "execution_count": 25,
   "metadata": {},
   "outputs": [
    {
     "data": {
      "text/plain": [
       "True"
      ]
     },
     "execution_count": 25,
     "metadata": {},
     "output_type": "execute_result"
    }
   ],
   "source": [
    "check_character_vowel('A')"
   ]
  },
  {
   "cell_type": "code",
   "execution_count": 26,
   "metadata": {},
   "outputs": [
    {
     "data": {
      "text/plain": [
       "True"
      ]
     },
     "execution_count": 26,
     "metadata": {},
     "output_type": "execute_result"
    }
   ],
   "source": [
    "check_character_vowel('U')"
   ]
  }
 ],
 "metadata": {
  "kernelspec": {
   "display_name": "Python 3",
   "language": "python",
   "name": "python3"
  },
  "language_info": {
   "codemirror_mode": {
    "name": "ipython",
    "version": 3
   },
   "file_extension": ".py",
   "mimetype": "text/x-python",
   "name": "python",
   "nbconvert_exporter": "python",
   "pygments_lexer": "ipython3",
   "version": "3.6.9"
  }
 },
 "nbformat": 4,
 "nbformat_minor": 2
}
